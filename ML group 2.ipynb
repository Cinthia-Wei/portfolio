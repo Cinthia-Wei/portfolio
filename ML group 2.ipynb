{
 "cells": [
  {
   "cell_type": "code",
   "execution_count": 28,
   "id": "69106da3",
   "metadata": {},
   "outputs": [],
   "source": [
    "import pandas as pd\n",
    "import numpy as np\n",
    "import re"
   ]
  },
  {
   "cell_type": "code",
   "execution_count": 29,
   "id": "dd75d5fe",
   "metadata": {},
   "outputs": [],
   "source": [
    "#load the csv files as dataframes \n",
    "training = pd.read_csv(\"C:/cindy/ICL/machine learning/training.txt\", encoding='latin-1')  #could use encoding = ISO-8859-1\n",
    "validation = pd.read_csv(\"C:/cindy/ICL/machine learning/validation.txt\", encoding='latin-1')\n",
    "test1 = pd.read_csv(\"C:/cindy/ICL/machine learning/test1.txt\",encoding='latin-1')\n",
    "test2 = pd.read_csv(\"C:/cindy/ICL/machine learning/test2.txt\",encoding='latin-1')"
   ]
  },
  {
   "cell_type": "code",
   "execution_count": 30,
   "id": "849674eb",
   "metadata": {},
   "outputs": [],
   "source": [
    "#load the txt files as dataframes \n",
    "clt1 = pd.read_csv(\"C:/cindy/ICL/machine learning/censored_list_test1.txt\")\n",
    "clt2 = pd.read_csv(\"C:/cindy/ICL/machine learning/censored_list_test2.txt\")"
   ]
  },
  {
   "cell_type": "code",
   "execution_count": 31,
   "id": "36096448",
   "metadata": {},
   "outputs": [
    {
     "data": {
      "text/html": [
       "<div>\n",
       "<style scoped>\n",
       "    .dataframe tbody tr th:only-of-type {\n",
       "        vertical-align: middle;\n",
       "    }\n",
       "\n",
       "    .dataframe tbody tr th {\n",
       "        vertical-align: top;\n",
       "    }\n",
       "\n",
       "    .dataframe thead th {\n",
       "        text-align: right;\n",
       "    }\n",
       "</style>\n",
       "<table border=\"1\" class=\"dataframe\">\n",
       "  <thead>\n",
       "    <tr style=\"text-align: right;\">\n",
       "      <th></th>\n",
       "      <th>label</th>\n",
       "      <th>sms</th>\n",
       "    </tr>\n",
       "  </thead>\n",
       "  <tbody>\n",
       "    <tr>\n",
       "      <th>0</th>\n",
       "      <td>ham</td>\n",
       "      <td>Just sent again. Do you scream and moan in bed...</td>\n",
       "    </tr>\n",
       "    <tr>\n",
       "      <th>1</th>\n",
       "      <td>ham</td>\n",
       "      <td>When i have stuff to sell i.ll tell you</td>\n",
       "    </tr>\n",
       "    <tr>\n",
       "      <th>2</th>\n",
       "      <td>ham</td>\n",
       "      <td>Ugh fuck it I'm resubbing to eve</td>\n",
       "    </tr>\n",
       "    <tr>\n",
       "      <th>3</th>\n",
       "      <td>ham</td>\n",
       "      <td>Change windows logoff sound..</td>\n",
       "    </tr>\n",
       "    <tr>\n",
       "      <th>4</th>\n",
       "      <td>ham</td>\n",
       "      <td>Ití_ís í«£6 to get in, is that ok?</td>\n",
       "    </tr>\n",
       "    <tr>\n",
       "      <th>...</th>\n",
       "      <td>...</td>\n",
       "      <td>...</td>\n",
       "    </tr>\n",
       "    <tr>\n",
       "      <th>2096</th>\n",
       "      <td>ham</td>\n",
       "      <td>Received, understood n acted upon!</td>\n",
       "    </tr>\n",
       "    <tr>\n",
       "      <th>2097</th>\n",
       "      <td>ham</td>\n",
       "      <td>Evening * v good if somewhat event laden. Will...</td>\n",
       "    </tr>\n",
       "    <tr>\n",
       "      <th>2098</th>\n",
       "      <td>ham</td>\n",
       "      <td>Just finished eating. Got u a plate. NOT lefto...</td>\n",
       "    </tr>\n",
       "    <tr>\n",
       "      <th>2099</th>\n",
       "      <td>ham</td>\n",
       "      <td>Even if he my friend he is a priest call him now</td>\n",
       "    </tr>\n",
       "    <tr>\n",
       "      <th>2100</th>\n",
       "      <td>ham</td>\n",
       "      <td>Wat time do u wan 2 meet me later?</td>\n",
       "    </tr>\n",
       "  </tbody>\n",
       "</table>\n",
       "<p>2101 rows × 2 columns</p>\n",
       "</div>"
      ],
      "text/plain": [
       "     label                                                sms\n",
       "0      ham  Just sent again. Do you scream and moan in bed...\n",
       "1      ham            When i have stuff to sell i.ll tell you\n",
       "2      ham                   Ugh fuck it I'm resubbing to eve\n",
       "3      ham                      Change windows logoff sound..\n",
       "4      ham             Ití_ís í«£6 to get in, is that ok?\n",
       "...    ...                                                ...\n",
       "2096   ham                 Received, understood n acted upon!\n",
       "2097   ham  Evening * v good if somewhat event laden. Will...\n",
       "2098   ham  Just finished eating. Got u a plate. NOT lefto...\n",
       "2099   ham   Even if he my friend he is a priest call him now\n",
       "2100   ham                 Wat time do u wan 2 meet me later?\n",
       "\n",
       "[2101 rows x 2 columns]"
      ]
     },
     "execution_count": 31,
     "metadata": {},
     "output_type": "execute_result"
    }
   ],
   "source": [
    "training"
   ]
  },
  {
   "cell_type": "code",
   "execution_count": 32,
   "id": "9357765e",
   "metadata": {},
   "outputs": [],
   "source": [
    "# Function to remove punctuation and numbers, and convert to lowercase\n",
    "def clean_text(text):\n",
    "    # Replace any character that is not a letter or whitespace and convert to lowercase\n",
    "    cleaned_text = re.sub(r'[^A-Za-z\\s]', '', text).lower()\n",
    "    return cleaned_text\n",
    "\n",
    "# Apply the function to the 'sms' column of each DataFrame\n",
    "training['sms'] = training['sms'].apply(clean_text)\n",
    "validation['sms'] = validation['sms'].apply(clean_text)\n",
    "test1['sms'] = test1['sms'].apply(clean_text)\n",
    "test2['sms'] = test2['sms'].apply(clean_text)"
   ]
  },
  {
   "cell_type": "code",
   "execution_count": 33,
   "id": "5af1c790",
   "metadata": {},
   "outputs": [
    {
     "data": {
      "text/html": [
       "<div>\n",
       "<style scoped>\n",
       "    .dataframe tbody tr th:only-of-type {\n",
       "        vertical-align: middle;\n",
       "    }\n",
       "\n",
       "    .dataframe tbody tr th {\n",
       "        vertical-align: top;\n",
       "    }\n",
       "\n",
       "    .dataframe thead th {\n",
       "        text-align: right;\n",
       "    }\n",
       "</style>\n",
       "<table border=\"1\" class=\"dataframe\">\n",
       "  <thead>\n",
       "    <tr style=\"text-align: right;\">\n",
       "      <th></th>\n",
       "      <th>label</th>\n",
       "      <th>sms</th>\n",
       "    </tr>\n",
       "  </thead>\n",
       "  <tbody>\n",
       "    <tr>\n",
       "      <th>0</th>\n",
       "      <td>ham</td>\n",
       "      <td>just sent again do you scream and moan in bed ...</td>\n",
       "    </tr>\n",
       "    <tr>\n",
       "      <th>1</th>\n",
       "      <td>ham</td>\n",
       "      <td>when i have stuff to sell ill tell you</td>\n",
       "    </tr>\n",
       "    <tr>\n",
       "      <th>2</th>\n",
       "      <td>ham</td>\n",
       "      <td>ugh fuck it im resubbing to eve</td>\n",
       "    </tr>\n",
       "    <tr>\n",
       "      <th>3</th>\n",
       "      <td>ham</td>\n",
       "      <td>change windows logoff sound</td>\n",
       "    </tr>\n",
       "    <tr>\n",
       "      <th>4</th>\n",
       "      <td>ham</td>\n",
       "      <td>its  to get in is that ok</td>\n",
       "    </tr>\n",
       "    <tr>\n",
       "      <th>...</th>\n",
       "      <td>...</td>\n",
       "      <td>...</td>\n",
       "    </tr>\n",
       "    <tr>\n",
       "      <th>2096</th>\n",
       "      <td>ham</td>\n",
       "      <td>received understood n acted upon</td>\n",
       "    </tr>\n",
       "    <tr>\n",
       "      <th>2097</th>\n",
       "      <td>ham</td>\n",
       "      <td>evening  v good if somewhat event laden will f...</td>\n",
       "    </tr>\n",
       "    <tr>\n",
       "      <th>2098</th>\n",
       "      <td>ham</td>\n",
       "      <td>just finished eating got u a plate not leftove...</td>\n",
       "    </tr>\n",
       "    <tr>\n",
       "      <th>2099</th>\n",
       "      <td>ham</td>\n",
       "      <td>even if he my friend he is a priest call him now</td>\n",
       "    </tr>\n",
       "    <tr>\n",
       "      <th>2100</th>\n",
       "      <td>ham</td>\n",
       "      <td>wat time do u wan  meet me later</td>\n",
       "    </tr>\n",
       "  </tbody>\n",
       "</table>\n",
       "<p>2101 rows × 2 columns</p>\n",
       "</div>"
      ],
      "text/plain": [
       "     label                                                sms\n",
       "0      ham  just sent again do you scream and moan in bed ...\n",
       "1      ham             when i have stuff to sell ill tell you\n",
       "2      ham                    ugh fuck it im resubbing to eve\n",
       "3      ham                        change windows logoff sound\n",
       "4      ham                          its  to get in is that ok\n",
       "...    ...                                                ...\n",
       "2096   ham                   received understood n acted upon\n",
       "2097   ham  evening  v good if somewhat event laden will f...\n",
       "2098   ham  just finished eating got u a plate not leftove...\n",
       "2099   ham   even if he my friend he is a priest call him now\n",
       "2100   ham                   wat time do u wan  meet me later\n",
       "\n",
       "[2101 rows x 2 columns]"
      ]
     },
     "execution_count": 33,
     "metadata": {},
     "output_type": "execute_result"
    }
   ],
   "source": [
    "training"
   ]
  },
  {
   "cell_type": "code",
   "execution_count": 34,
   "id": "915fc687",
   "metadata": {},
   "outputs": [
    {
     "data": {
      "text/html": [
       "<div>\n",
       "<style scoped>\n",
       "    .dataframe tbody tr th:only-of-type {\n",
       "        vertical-align: middle;\n",
       "    }\n",
       "\n",
       "    .dataframe tbody tr th {\n",
       "        vertical-align: top;\n",
       "    }\n",
       "\n",
       "    .dataframe thead th {\n",
       "        text-align: right;\n",
       "    }\n",
       "</style>\n",
       "<table border=\"1\" class=\"dataframe\">\n",
       "  <thead>\n",
       "    <tr style=\"text-align: right;\">\n",
       "      <th></th>\n",
       "      <th>label</th>\n",
       "      <th>sms</th>\n",
       "    </tr>\n",
       "  </thead>\n",
       "  <tbody>\n",
       "    <tr>\n",
       "      <th>0</th>\n",
       "      <td>ham</td>\n",
       "      <td>i need details about that online job</td>\n",
       "    </tr>\n",
       "    <tr>\n",
       "      <th>1</th>\n",
       "      <td>ham</td>\n",
       "      <td>oh ok wait  me there my lect havent finish</td>\n",
       "    </tr>\n",
       "    <tr>\n",
       "      <th>2</th>\n",
       "      <td>ham</td>\n",
       "      <td>you were supposed to wake me up gt</td>\n",
       "    </tr>\n",
       "    <tr>\n",
       "      <th>3</th>\n",
       "      <td>spam</td>\n",
       "      <td>for ur chance to win a  cash every wk txt acti...</td>\n",
       "    </tr>\n",
       "    <tr>\n",
       "      <th>4</th>\n",
       "      <td>ham</td>\n",
       "      <td>how abt making some of the pics bigger</td>\n",
       "    </tr>\n",
       "    <tr>\n",
       "      <th>...</th>\n",
       "      <td>...</td>\n",
       "      <td>...</td>\n",
       "    </tr>\n",
       "    <tr>\n",
       "      <th>894</th>\n",
       "      <td>ham</td>\n",
       "      <td>tmr maybe can meet you at yck</td>\n",
       "    </tr>\n",
       "    <tr>\n",
       "      <th>895</th>\n",
       "      <td>ham</td>\n",
       "      <td>the word checkmate in chess comes from the per...</td>\n",
       "    </tr>\n",
       "    <tr>\n",
       "      <th>896</th>\n",
       "      <td>ham</td>\n",
       "      <td>can call in  ltgt    if thats ok</td>\n",
       "    </tr>\n",
       "    <tr>\n",
       "      <th>897</th>\n",
       "      <td>ham</td>\n",
       "      <td>ive told you   will stop just dont let her get...</td>\n",
       "    </tr>\n",
       "    <tr>\n",
       "      <th>898</th>\n",
       "      <td>ham</td>\n",
       "      <td>youve already got a flaky parent itsnot suppos...</td>\n",
       "    </tr>\n",
       "  </tbody>\n",
       "</table>\n",
       "<p>899 rows × 2 columns</p>\n",
       "</div>"
      ],
      "text/plain": [
       "    label                                                sms\n",
       "0     ham               i need details about that online job\n",
       "1     ham         oh ok wait  me there my lect havent finish\n",
       "2     ham                 you were supposed to wake me up gt\n",
       "3    spam  for ur chance to win a  cash every wk txt acti...\n",
       "4     ham             how abt making some of the pics bigger\n",
       "..    ...                                                ...\n",
       "894   ham                      tmr maybe can meet you at yck\n",
       "895   ham  the word checkmate in chess comes from the per...\n",
       "896   ham                   can call in  ltgt    if thats ok\n",
       "897   ham  ive told you   will stop just dont let her get...\n",
       "898   ham  youve already got a flaky parent itsnot suppos...\n",
       "\n",
       "[899 rows x 2 columns]"
      ]
     },
     "execution_count": 34,
     "metadata": {},
     "output_type": "execute_result"
    }
   ],
   "source": [
    "validation"
   ]
  },
  {
   "cell_type": "code",
   "execution_count": 35,
   "id": "f019a228",
   "metadata": {},
   "outputs": [],
   "source": [
    "#define a class \n",
    "class NaiveBayesForSpam: \n",
    "    #define a method to train the classifier \n",
    "    def train(self, hamMessages, spamMessages):\n",
    "        #create a set of unique words from ham and spam messages\n",
    "        #make all the words a long string connected with -, split this string into words, and remove duplicates\n",
    "        self.words = set('-'.join(hamMessages+spamMessages).split())\n",
    "        #assign [0., 0.] to prior probabilities of ham and spam\n",
    "        self.priors = np.zeros(2)\n",
    "        #set the first value as the prior probabilities of ham \n",
    "        # P(ham) = num of ham messages / num of all messages\n",
    "        self.priors[0] = float(len(hamMessages)/(len(spamMessages)+len(hamMessages)))\n",
    "        #set the second value as the prior probabilities of spam \n",
    "        # P(spam) = num of spam messages / num of all messages\n",
    "        self.priors[1] = 1.0 - self.priors[0]\n",
    "        #create a list to store likelihoods\n",
    "        self.likelihoods = []\n",
    "        \n",
    "        #iterate the every word in words\n",
    "        for i, w in enumerate(self.words):\n",
    "            #likelihood of the word appearing in ham messages = P(word|ham)\n",
    "            #add 1 for Laplace smoothing to avoid zero probabilities\n",
    "            prob1 = (1.0 + len([m for m in hamMessages if w in m])) / len(hamMessages)\n",
    "            #likelihood of the word appearing in spam messages = P(word|spam)\n",
    "            #add 1 for Laplace smoothing to avoid zero probabilities\n",
    "            prob2 = (1.0 + len([m for m in spamMessages if w in m])) / len(spamMessages)\n",
    "            #limit the max likelihood to be 0.95\n",
    "            #each element in likelihoods is [P(word|ham), P(word|spam)]\n",
    "            self.likelihoods.append([min(prob1, 0.95), min(prob2, 0.95)])\n",
    "            #convert list likelihoods to array, transpose so that each row corresponds to a class\n",
    "        self.likelihoods = np.array(self.likelihoods).T\n",
    "    \n",
    "    #alternative training method                 \n",
    "    def train2(self, hamMessages, spamMessages):\n",
    "        #same as train\n",
    "        self.words = set('-'.join(hamMessages+spamMessages).split())\n",
    "        self.priors = np.zeros(2)\n",
    "        self.priors[0] = float(len(hamMessages)/(len(spamMessages)+len(hamMessages)))\n",
    "        self.priors[1] = 1.0 - self.priors[0]\n",
    "        self.likelihoods = []\n",
    "        #create a list to store spam words\n",
    "        spamkeywords = []\n",
    "        \n",
    "        #interate every word in words to calculate the likelihoods of the word in ham and spam                       \n",
    "        for i, w in enumerate(self.words):\n",
    "            prob1 = (1.0 + len([m for m in hamMessages if w in m])) / len(hamMessages) #P(word|ham)\n",
    "            prob2 = (1.0 + len([m for m in spamMessages if w in m])) / len(spamMessages) #P(word|spam)\n",
    "            #add a condition\n",
    "            #if the word is much more likely to appear in spam\n",
    "            if prob1*20 <prob2:\n",
    "                self.likelihoods.append([min(prob1, 0.95), min(prob2, 0.95)])\n",
    "                spamkeywords.append(w) #append that word to spamkeywords\n",
    "        #update words to include only spamkeywords\n",
    "        self.words = spamkeywords\n",
    "        #likellihoods now include only filtered words (more likely in spam)\n",
    "        self.likelihoods = np.array(self.likelihoods).T\n",
    "    \n",
    "    #define a method to make predictions\n",
    "    def predict(self, message):\n",
    "        #set the initial posterior probailities  as prior probabilities \n",
    "        posteriors = np.copy(self.priors)\n",
    "        #iterate every word in words\n",
    "        for i, w in enumerate(self.words):\n",
    "            #if w is found in the message(case-insensitive)\n",
    "            if w in message.lower(): \n",
    "                #updated posterior = posterior*likelihood\n",
    "                posteriors*= self.likelihoods[:, i]\n",
    "            else:\n",
    "                #if w is not found in message, updated posterior = posterior*(1-likelihood)\n",
    "                posteriors*= np.ones(2) - self.likelihoods[:, i]\n",
    "            posteriors = posteriors/np.linalg.norm(posteriors, ord = 1) #normalise \n",
    "        if posteriors[0] > 0.5:\n",
    "            return ['ham', posteriors[0]] #likely to be ham\n",
    "        return ['spam', posteriors[1]] #likely to be spam\n",
    "    \n",
    "    #define a method to measure the accuracies of the classifier \n",
    "    def score(self, messages, labels):\n",
    "        #initialize a confusion matrix\n",
    "        confusion = np.zeros(4).reshape(2,2)\n",
    "        #iterate every word in messages and give scores to confusion matrix\n",
    "        for m, l in zip(messages, labels):\n",
    "            #prediction is ham, actual label is ham\n",
    "            if self.predict(m)[0] == 'ham' and l == 'ham':\n",
    "                confusion[0,0]+=1\n",
    "            #prediction is ham, actual label is spam\n",
    "            elif self.predict(m)[0] == 'ham' and l == 'spam':\n",
    "                confusion[0,1]+=1\n",
    "            #prediction is spam, actual label is ham\n",
    "            elif self.predict(m)[0] == 'spam' and l == 'ham':\n",
    "                confusion[1,0]+=1\n",
    "            #prediction is spam, actual label is spam\n",
    "            elif self.predict(m)[0] == 'spam' and l == 'spam':\n",
    "                confusion[1,1]+=1\n",
    "        #return accuracy score = num of words correctly classified / num of all words , and the confusion matrix\n",
    "        return (confusion[0,0] + confusion[1,1]) / float(confusion.sum()), confusion"
   ]
  },
  {
   "cell_type": "code",
   "execution_count": 36,
   "id": "6e14a14c",
   "metadata": {},
   "outputs": [],
   "source": [
    "#filter ham and spam message\n",
    "hamMessages = training.loc[training['label'] == \"ham\"][\"sms\"].tolist()\n",
    "spamMessages = training.loc[training['label'] == \"spam\"][\"sms\"].tolist()"
   ]
  },
  {
   "cell_type": "code",
   "execution_count": 37,
   "id": "c9474f5a",
   "metadata": {},
   "outputs": [],
   "source": [
    "#use method train to train classifier\n",
    "classifier = NaiveBayesForSpam()\n",
    "classifier.train(hamMessages, spamMessages)"
   ]
  },
  {
   "cell_type": "code",
   "execution_count": 38,
   "id": "882a56d0",
   "metadata": {},
   "outputs": [],
   "source": [
    "#use method train2 to train the classifier2\n",
    "classifier2 = NaiveBayesForSpam()\n",
    "classifier2.train2(hamMessages, spamMessages)"
   ]
  },
  {
   "cell_type": "code",
   "execution_count": 39,
   "id": "ac1784ba",
   "metadata": {},
   "outputs": [],
   "source": [
    "#inputs for validation\n",
    "messages = validation['sms'].tolist()\n",
    "labels = validation['label'].tolist()"
   ]
  },
  {
   "cell_type": "code",
   "execution_count": 40,
   "id": "e94c54ea",
   "metadata": {},
   "outputs": [
    {
     "name": "stdout",
     "output_type": "stream",
     "text": [
      "Accuracy:  0.9655172413793104\n",
      "Confusion Matrix: \n",
      "[[778.  21.]\n",
      " [ 10.  90.]]\n"
     ]
    }
   ],
   "source": [
    "#validatation accuracy of classifier (train)\n",
    "#the predict method is incorporated in score method\n",
    "accuracy, c_matrix = classifier.score(messages, labels)\n",
    "\n",
    "#print the results\n",
    "print(\"Accuracy: \", accuracy)\n",
    "print(\"Confusion Matrix: \")\n",
    "print(c_matrix)"
   ]
  },
  {
   "cell_type": "code",
   "execution_count": 41,
   "id": "61c2cf06",
   "metadata": {},
   "outputs": [
    {
     "name": "stdout",
     "output_type": "stream",
     "text": [
      "Accuracy:  0.9632925472747497\n",
      "Confusion Matrix: \n",
      "[[784.  29.]\n",
      " [  4.  82.]]\n"
     ]
    }
   ],
   "source": [
    "#validatation accuracy of classifier2 (train2)\n",
    "accuracy2, c_matrix2 = classifier2.score(messages, labels)\n",
    "\n",
    "#print the results\n",
    "print(\"Accuracy: \", accuracy2)\n",
    "print(\"Confusion Matrix: \")\n",
    "print(c_matrix2)"
   ]
  },
  {
   "cell_type": "code",
   "execution_count": 15,
   "id": "1a6b5b92",
   "metadata": {},
   "outputs": [
    {
     "name": "stdout",
     "output_type": "stream",
     "text": [
      "Accuracy:  0.96573060447406\n",
      "Confision Matrix: \n",
      "[[1795.   41.]\n",
      " [  31.  234.]]\n"
     ]
    }
   ],
   "source": [
    "#training accuracy of classifier (train)\n",
    "t_accuracy, t_c_matrix = classifier.score(training['sms'].tolist(), training['label'].tolist())\n",
    "\n",
    "#print the results\n",
    "print(\"Accuracy: \", t_accuracy)\n",
    "print(\"Confision Matrix: \")\n",
    "print(t_c_matrix)"
   ]
  },
  {
   "cell_type": "code",
   "execution_count": 16,
   "id": "9fac7784",
   "metadata": {},
   "outputs": [
    {
     "name": "stdout",
     "output_type": "stream",
     "text": [
      "Accuracy:  0.9690623512613041\n",
      "Confision Matrix: \n",
      "[[1819.   58.]\n",
      " [   7.  217.]]\n"
     ]
    }
   ],
   "source": [
    "#training accuracy of classifier2 (train2)\n",
    "t_accuracy2, t_c_matrix2 = classifier2.score(training['sms'].tolist(), training['label'].tolist())\n",
    "\n",
    "#print the results\n",
    "print(\"Accuracy: \", t_accuracy2)\n",
    "print(\"Confision Matrix: \")\n",
    "print(t_c_matrix2)"
   ]
  },
  {
   "cell_type": "markdown",
   "id": "6df4e142",
   "metadata": {},
   "source": [
    "train2 is faster than train due to its approach to handle the inputs. Specifically, the condition 'if prob1*20 < prob2' in train2 keeps only the words whose likelihood to be spam is significantly higher than likelihood to be ham (20 times higher). The condition results in fewer words in 'spamkeywords' and hence 'self.words', leading to shorter operation time to iterate through the input data and generate the accuracy outputs. \n",
    "\n",
    "train2 has higher accuracy regardless of using training or validation data, as it focuses on words more likely to be in spam messages given the additional condition and 'spamkeyword'. Therefore, classifier2, trained by train2, is less likely to be affected by noise or features that don't strongly differentiate betweem ham and spam. train2 might also reduce the risk of overfitting by excluding those less indicative words in the messages. "
   ]
  },
  {
   "cell_type": "markdown",
   "id": "2ae8d93f",
   "metadata": {},
   "source": [
    "There are 21 false positives when plugging validation data in train. \n",
    "There are 29 false positives when plugging validation data in train2. "
   ]
  },
  {
   "cell_type": "code",
   "execution_count": null,
   "id": "14afcc03",
   "metadata": {},
   "outputs": [],
   "source": [
    "'''\n",
    "class NaiveBayesForSpam: \n",
    "    # ... (methods)\n",
    "\n",
    "    def predict(self, message):\n",
    "        # ... (previous code)\n",
    "        # Adjust the threshold here\n",
    "        ham_threshold = 0.3  # lowering the threshold to 0.3\n",
    "        if posteriors[0] > ham_threshold:\n",
    "            return ['ham', posteriors[0]] # More likely to be ham\n",
    "        return ['spam', posteriors[1]] # More likely to be spam\n",
    "'''"
   ]
  },
  {
   "cell_type": "markdown",
   "id": "f8f19f2f",
   "metadata": {},
   "source": [
    "We can add a low ham threshold in the predict method. In the above example code, we lower the threshold from 0.5 to 0.3. That is, when the likelihood of the word being ham is higher than the threshold, the word will be classified as ham. The approach leads to more lenient classification of ham messages, increasing the number of messages being classified as ham and potentially reducing ones being misclassified as spam. The approach reduces false positives at the expense of false negatives, since it makes it harder to classify words as spam and some spam words could fall into ham. "
   ]
  },
  {
   "attachments": {
    "image.png": {
     "image/png": "[encoded data removed]"
    }
   },
   "cell_type": "markdown",
   "id": "5fc1265a",
   "metadata": {},
   "source": [
    "![image.png](attachment:image.png)"
   ]
  },
  {
   "cell_type": "markdown",
   "id": "a83a4fd4",
   "metadata": {},
   "source": [
    "ignore the missing variables in computing the probability "
   ]
  },
  {
   "cell_type": "code",
   "execution_count": 17,
   "id": "1f414140",
   "metadata": {},
   "outputs": [],
   "source": [
    "#define a class \n",
    "class NaiveBayesForSpam: \n",
    "    #define a method to train the classifier \n",
    "    def train(self, hamMessages, spamMessages):\n",
    "        #create a set of unique words from ham and spam messages\n",
    "        #make all the words a long string connected with -, split this string into words, and remove duplicates\n",
    "        self.words = set('-'.join(hamMessages+spamMessages).split())\n",
    "        #assign [0., 0.] to prior probabilities of ham and spam\n",
    "        self.priors = np.zeros(2)\n",
    "        #set the first value as the prior probabilities of ham \n",
    "        # P(ham) = num of ham messages / num of all messages\n",
    "        self.priors[0] = float(len(hamMessages)/(len(spamMessages)+len(hamMessages)))\n",
    "        #set the second value as the prior probabilities of spam \n",
    "        # P(spam) = num of spam messages / num of all messages\n",
    "        self.priors[1] = 1.0 - self.priors[0]\n",
    "        #create a list to store likelihoods\n",
    "        self.likelihoods = []\n",
    "        \n",
    "        #iterate the every word in words\n",
    "        for i, w in enumerate(self.words):\n",
    "            #likelihood of the word appearing in ham messages = P(word|ham)\n",
    "            #add 1 for Laplace smoothing to avoid zero probabilities\n",
    "            prob1 = (1.0 + len([m for m in hamMessages if w in m])) / len(hamMessages)\n",
    "            #likelihood of the word appearing in spam messages = P(word|spam)\n",
    "            #add 1 for Laplace smoothing to avoid zero probabilities\n",
    "            prob2 = (1.0 + len([m for m in spamMessages if w in m])) / len(spamMessages)\n",
    "            #limit the max likelihood to be 0.95\n",
    "            #each element in likelihoods is [P(word|ham), P(word|spam)]\n",
    "            self.likelihoods.append([min(prob1, 0.95), min(prob2, 0.95)])\n",
    "            #convert list likelihoods to array, transpose so that each row corresponds to a class\n",
    "        self.likelihoods = np.array(self.likelihoods).T\n",
    "    \n",
    "    #alternative training method                 \n",
    "    def train2(self, hamMessages, spamMessages):\n",
    "        #same as train\n",
    "        self.words = set('-'.join(hamMessages+spamMessages).split())\n",
    "        self.priors = np.zeros(2)\n",
    "        self.priors[0] = float(len(hamMessages)/(len(spamMessages)+len(hamMessages)))\n",
    "        self.priors[1] = 1.0 - self.priors[0]\n",
    "        self.likelihoods = []\n",
    "        #create a list to store spam words\n",
    "        spamkeywords = []\n",
    "        \n",
    "        #interate every word in words to calculate the likelihoods of the word in ham and spam                       \n",
    "        for i, w in enumerate(self.words):\n",
    "            prob1 = (1.0 + len([m for m in hamMessages if w in m])) / len(hamMessages) #P(word|ham)\n",
    "            prob2 = (1.0 + len([m for m in spamMessages if w in m])) / len(spamMessages) #P(word|spam)\n",
    "            #add a condition\n",
    "            #if the word is much more likely to appear in spam\n",
    "            if prob1*20 <prob2:\n",
    "                self.likelihoods.append([min(prob1, 0.95), min(prob2, 0.95)])\n",
    "                spamkeywords.append(w) #append that word to spamkeywords\n",
    "        #update words to include only spamkeywords\n",
    "        self.words = spamkeywords\n",
    "        #likellihoods now include only filtered words (more likely in spam)\n",
    "        self.likelihoods = np.array(self.likelihoods).T\n",
    "    \n",
    "    #revise predict\n",
    "    def predict2(self, message):\n",
    "        # Initialize the posterior probabilities as the prior probabilities\n",
    "        posteriors = np.copy(self.priors)\n",
    "\n",
    "        # Process the message: Convert to lowercase and split into words\n",
    "        processed_message = message.lower().split()\n",
    "\n",
    "        # Iterate over each word in the processed message\n",
    "        for word in processed_message:\n",
    "            if word in self.words:\n",
    "                # Find the index of the word in self.words\n",
    "                word_index = list(self.words).index(word)\n",
    "                # Update posterior probabilities for words observed in training\n",
    "                posteriors *= self.likelihoods[:, word_index]\n",
    "            # If the word wasn't seen during training, we simply skip it\n",
    "\n",
    "        # Normalize the posterior probabilities\n",
    "        posteriors = posteriors / np.linalg.norm(posteriors, ord=1)\n",
    "\n",
    "        # Make the prediction based on the posterior probabilities\n",
    "        if posteriors[0] > 0.5:\n",
    "            return ['ham', posteriors[0]]\n",
    "        return ['spam', posteriors[1]]\n",
    "    \n",
    "    #define a method to measure the accuracies of the classifier \n",
    "    def score2(self, messages, labels):\n",
    "        #initialize a confusion matrix\n",
    "        confusion = np.zeros(4).reshape(2,2)\n",
    "        #iterate every word in messages and give scores to confusion matrix\n",
    "        for m, l in zip(messages, labels):\n",
    "            #prediction is ham, actual label is ham\n",
    "            if self.predict2(m)[0] == 'ham' and l == 'ham':\n",
    "                confusion[0,0]+=1\n",
    "            #prediction is ham, actual label is spam\n",
    "            elif self.predict2(m)[0] == 'ham' and l == 'spam':\n",
    "                confusion[0,1]+=1\n",
    "            #prediction is spam, actual label is ham\n",
    "            elif self.predict2(m)[0] == 'spam' and l == 'ham':\n",
    "                confusion[1,0]+=1\n",
    "            #prediction is spam, actual label is spam\n",
    "            elif self.predict2(m)[0] == 'spam' and l == 'spam':\n",
    "                confusion[1,1]+=1\n",
    "        #return accuracy score = num of words correctly classified / num of all words , and the confusion matrix\n",
    "        return (confusion[0,0] + confusion[1,1]) / float(confusion.sum()), confusion"
   ]
  },
  {
   "cell_type": "code",
   "execution_count": 18,
   "id": "11b64440",
   "metadata": {},
   "outputs": [],
   "source": [
    "#use method train to train classifier\n",
    "classifier = NaiveBayesForSpam()\n",
    "classifier.train(hamMessages, spamMessages)"
   ]
  },
  {
   "cell_type": "code",
   "execution_count": 19,
   "id": "0ad1ce9b",
   "metadata": {},
   "outputs": [],
   "source": [
    "#use method train2 to train classifier\n",
    "classifier2 = NaiveBayesForSpam()\n",
    "classifier2.train2(hamMessages, spamMessages)"
   ]
  },
  {
   "cell_type": "code",
   "execution_count": 20,
   "id": "f23f4626",
   "metadata": {},
   "outputs": [],
   "source": [
    "#seperate sms and label in test1\n",
    "t_messages = test1['sms'].tolist()\n",
    "t_labels = test1['label'].tolist()"
   ]
  },
  {
   "cell_type": "code",
   "execution_count": 21,
   "id": "f0f79384",
   "metadata": {},
   "outputs": [
    {
     "name": "stdout",
     "output_type": "stream",
     "text": [
      "Accuracy:  0.677570093457944\n",
      "Confusion Matrix: \n",
      "[[701.   0.]\n",
      " [414. 169.]]\n"
     ]
    }
   ],
   "source": [
    "#test1, train, predict2\n",
    "accuracy, c_matrix = classifier.score2(t_messages, t_labels)\n",
    "\n",
    "#print the results\n",
    "print(\"Accuracy: \", accuracy)\n",
    "print(\"Confusion Matrix: \")\n",
    "print(c_matrix)"
   ]
  },
  {
   "cell_type": "code",
   "execution_count": 22,
   "id": "a25eba69",
   "metadata": {},
   "outputs": [
    {
     "name": "stdout",
     "output_type": "stream",
     "text": [
      "Accuracy:  0.9493769470404985\n",
      "Confusion Matrix: \n",
      "[[1070.   20.]\n",
      " [  45.  149.]]\n"
     ]
    }
   ],
   "source": [
    "#test1, train2, predict2\n",
    "accuracy, c_matrix = classifier2.score2(t_messages, t_labels)\n",
    "\n",
    "#print the results\n",
    "print(\"Accuracy: \", accuracy)\n",
    "print(\"Confusion Matrix: \")\n",
    "print(c_matrix)"
   ]
  },
  {
   "cell_type": "code",
   "execution_count": 23,
   "id": "afa827e8",
   "metadata": {},
   "outputs": [],
   "source": [
    "#test2\n",
    "t2_messages = test2['sms'].tolist()\n",
    "t2_labels = test2['label'].tolist()"
   ]
  },
  {
   "cell_type": "code",
   "execution_count": 24,
   "id": "22cb0b4c",
   "metadata": {},
   "outputs": [
    {
     "name": "stdout",
     "output_type": "stream",
     "text": [
      "Accuracy:  0.7091757387247278\n",
      "Confusion Matrix: \n",
      "[[724.   4.]\n",
      " [370. 188.]]\n"
     ]
    }
   ],
   "source": [
    "#test2, train, predict2\n",
    "accuracy, c_matrix = classifier.score2(t2_messages, t2_labels)\n",
    "\n",
    "#print the results\n",
    "print(\"Accuracy: \", accuracy)\n",
    "print(\"Confusion Matrix: \")\n",
    "print(c_matrix)"
   ]
  },
  {
   "cell_type": "code",
   "execution_count": 25,
   "id": "43cbf209",
   "metadata": {},
   "outputs": [
    {
     "name": "stdout",
     "output_type": "stream",
     "text": [
      "Accuracy:  0.9494556765163297\n",
      "Confusion Matrix: \n",
      "[[1053.   24.]\n",
      " [  41.  168.]]\n"
     ]
    }
   ],
   "source": [
    "#test2, train2, predict2\n",
    "accuracy, c_matrix = classifier2.score2(t2_messages, t2_labels)\n",
    "\n",
    "#print the results\n",
    "print(\"Accuracy: \", accuracy)\n",
    "print(\"Confusion Matrix: \")\n",
    "print(c_matrix)"
   ]
  },
  {
   "cell_type": "markdown",
   "id": "5777bf74",
   "metadata": {},
   "source": [
    "With the revised predict method, we ignore the probability of a word if it appears in test but not in training. We remove the calculation of 'updated posterior = posterior*(1-likelihood)' shown in the first part. \n",
    "\n",
    "- An accuracy of 67.76% is achieved when we input test1 (remove 10% of keywords) and use train method.\n",
    "- An accuracy of 94.94% is achieved when we input test1 (remove 10% of keywords) and use train2 method.\n",
    "- An accuracy of 70.92% is achieved when we input test2 (remove 30% of keywords) and use train method.\n",
    "- An accuracy of 94.95% is achieved when we input test2 (remove 30% of keywords) and use train2 method."
   ]
  },
  {
   "cell_type": "markdown",
   "id": "81631e00",
   "metadata": {},
   "source": [
    "With the same input (test1 or test2), the accuracies improved when we switch from train to train2 method, which is in accordance with the previous finding. With the same training method (train or train2), the accuracies improved when we switch the input from test1 to test2. That is, the model performs better when making predictions for inputs with a lot of unseen words.  \n",
    "\n",
    "It's interesting to find out the model performs better on test2 with 30% missing data compared to test1 with only 10% missing data. In a typical scenario, one would expect a model to perform better with less missing data, as more information is usually beneficial for making accurate predictions. However, several factors could lead to the observed behavior:\n",
    "\n",
    "- Data Distribution and Representativeness: If test2, despite having more missing data, is more representative of the data distribution the model was trained on, it could lead to better performance. In contrast, test1 might have missing data in more informative areas, reducing its representativeness. Another way to put this is that the remaining data in test2 is higher-quality than one in test1, and such result derives from the random variability of data. \n",
    "- Overfitting to Non-Missing Data: If the model is overfitting to the non-missing data in test1, it might perform worse on this dataset. In contrast, the increased amount of missing data in test2 could reduce the model's tendency to overfit, leading to better generalization.\n",
    "- Noise Reduction: In some cases, removing data can act as a noise reduction technique. If the 30% of data removed from test2 includes more noise or irrelevant information compared to test1, this could lead to improved performance."
   ]
  },
  {
   "cell_type": "code",
   "execution_count": 26,
   "id": "d441cae7",
   "metadata": {},
   "outputs": [
    {
     "name": "stdout",
     "output_type": "stream",
     "text": [
      "Accuracy:  0.6392194193241314\n",
      "Confusion Matrix: \n",
      "[[1.069e+03 1.000e+00]\n",
      " [7.570e+02 2.740e+02]]\n"
     ]
    }
   ],
   "source": [
    "#trainning data, train, predict2\n",
    "accuracy, c_matrix = classifier.score2(training['sms'].tolist(), training['label'].tolist())\n",
    "\n",
    "#print the results\n",
    "print(\"Accuracy: \", accuracy)\n",
    "print(\"Confusion Matrix: \")\n",
    "print(c_matrix)"
   ]
  },
  {
   "cell_type": "code",
   "execution_count": 27,
   "id": "608fcf4e",
   "metadata": {},
   "outputs": [
    {
     "name": "stdout",
     "output_type": "stream",
     "text": [
      "Accuracy:  0.9595430747263208\n",
      "Confusion Matrix: \n",
      "[[1771.   30.]\n",
      " [  55.  245.]]\n"
     ]
    }
   ],
   "source": [
    "#trainning data, train2, predict2\n",
    "accuracy, c_matrix = classifier2.score2(training['sms'].tolist(), training['label'].tolist())\n",
    "\n",
    "#print the results\n",
    "print(\"Accuracy: \", accuracy)\n",
    "print(\"Confusion Matrix: \")\n",
    "print(c_matrix)"
   ]
  },
  {
   "cell_type": "code",
   "execution_count": null,
   "id": "10727b00",
   "metadata": {},
   "outputs": [],
   "source": []
  }
 ],
 "metadata": {
  "kernelspec": {
   "display_name": "Python 3 (ipykernel)",
   "language": "python",
   "name": "python3"
  },
  "language_info": {
   "codemirror_mode": {
    "name": "ipython",
    "version": 3
   },
   "file_extension": ".py",
   "mimetype": "text/x-python",
   "name": "python",
   "nbconvert_exporter": "python",
   "pygments_lexer": "ipython3",
   "version": "3.8.18"
  }
 },
 "nbformat": 4,
 "nbformat_minor": 5
}
